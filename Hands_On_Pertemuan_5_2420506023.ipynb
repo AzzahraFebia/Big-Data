{
  "nbformat": 4,
  "nbformat_minor": 0,
  "metadata": {
    "colab": {
      "provenance": [],
      "authorship_tag": "ABX9TyOLiGB95wAn8uXlGUDrKciA",
      "include_colab_link": true
    },
    "kernelspec": {
      "name": "python3",
      "display_name": "Python 3"
    },
    "language_info": {
      "name": "python"
    }
  },
  "cells": [
    {
      "cell_type": "markdown",
      "metadata": {
        "id": "view-in-github",
        "colab_type": "text"
      },
      "source": [
        "<a href=\"https://colab.research.google.com/github/AzzahraFebia/Big-Data/blob/main/Hands_On_Pertemuan_5_2420506023.ipynb\" target=\"_parent\"><img src=\"https://colab.research.google.com/assets/colab-badge.svg\" alt=\"Open In Colab\"/></a>"
      ]
    },
    {
      "cell_type": "markdown",
      "metadata": {
        "id": "090da41e"
      },
      "source": [
        "### 1. Pengenalan MapReduce\n",
        "MapReduce adalah model pemrograman yang digunakan untuk pemrosesan data besar secara paralel di beberapa node dalam kluster Hadoop.\n",
        "- **Map**: Fase pertama di mana data dipecah menjadi unit-unit kecil (key-value pairs).\n",
        "- **Reduce**: Fase kedua di mana hasil dari fase Map dikombinasikan untuk menghasilkan output yang lebih kecil.\n",
        "\n",
        "- **Tugas 1**: Pelajari bagaimana MapReduce bekerja dengan dataset sederhana dan coba implementasikan konsep key-value pair."
      ]
    },
    {
      "cell_type": "code",
      "execution_count": null,
      "metadata": {
        "colab": {
          "base_uri": "https://localhost:8080/"
        },
        "id": "7ks8ZYnzhKao",
        "outputId": "459051ec-a75f-4ea0-8bf9-e93136c65fc1"
      },
      "outputs": [
        {
          "output_type": "stream",
          "name": "stdout",
          "text": [
            "Mapped, Pasangan Item :\n",
            "[('apel', 1), ('pisang', 1), ('apel', 1), ('jeruk', 1), ('pisang', 1), ('jeruk', 1), ('apel', 1)]\n",
            "------------------------------\n",
            "Pengelompokan Item :\n",
            "{'apel': [1, 1, 1], 'pisang': [1, 1], 'jeruk': [1, 1]}\n",
            "------------------------------\n",
            "Reduced, Jumlah Total Item Belanja :\n",
            "{'apel': 3, 'pisang': 2, 'jeruk': 2}\n"
          ]
        }
      ],
      "source": [
        "# Daftar belanja\n",
        "keranjang_belanja = [\"apel\", \"pisang\", \"apel\", \"jeruk\", \"pisang\", \"jeruk\", \"apel\"]\n",
        "\n",
        "# --- Tahap Mapping ---\n",
        "# Pasangan (item,1) untuk setiap item\n",
        "mapped_items = [(item, 1) for item in keranjang_belanja]\n",
        "\n",
        "print(\"Mapped, Pasangan Item :\")\n",
        "print(mapped_items)\n",
        "print(\"-\" * 30)\n",
        "\n",
        "# Kelompokkan nilai (1) untuk setiap item\n",
        "grouped_items = {}\n",
        "for item, count in mapped_items:\n",
        "    if item not in grouped_items:\n",
        "        grouped_items[item] = []\n",
        "    grouped_items[item].append(count)\n",
        "\n",
        "print(\"Pengelompokan Item :\")\n",
        "print(grouped_items)\n",
        "print(\"-\" * 30)\n",
        "\n",
        "# --- Tahap Reduce ---\n",
        "# Jumlahkan nilai (1) di setiap kelompok untuk mendapatkan total\n",
        "reduced_results = {}\n",
        "for item, counts in grouped_items.items():\n",
        "    total_count = sum(counts)\n",
        "    reduced_results[item] = total_count\n",
        "\n",
        "print(\"Reduced, Jumlah Total Item Belanja :\")\n",
        "print(reduced_results)"
      ]
    },
    {
      "cell_type": "markdown",
      "metadata": {
        "id": "7190ed74"
      },
      "source": [
        "### 2. Implementasi Sederhana: Word Count\n",
        "Algoritma Word Count adalah salah satu contoh sederhana dari MapReduce. Dalam tugas ini, kita akan menghitung jumlah kata dalam dataset.\n",
        "\n",
        "1. **Map Function**: Fungsi yang memecah teks menjadi kata-kata individual.\n",
        "   ```python\n",
        "   def map_function(text):\n",
        "       for word in text.split():\n",
        "           yield (word, 1)\n",
        "   ```\n",
        "2. **Reduce Function**: Fungsi yang menggabungkan hasil dari fase Map untuk menghitung frekuensi kata.\n",
        "   ```python\n",
        "   from collections import defaultdict\n",
        "\n",
        "   def reduce_function(pairs):\n",
        "       result = defaultdict(int)\n",
        "       for word, count in pairs:\n",
        "           result[word] += count\n",
        "       return result\n",
        "   ```\n",
        "- **Tugas 2**: Implementasikan fungsi `map_function` dan `reduce_function` pada dataset teks sederhana, lalu hitung jumlah kata."
      ]
    },
    {
      "cell_type": "code",
      "source": [
        "# Map Function : memecah teks jadi kata-kata lalu memberi nilai 1\n",
        "def map_function(text):\n",
        "    for word in text.split():\n",
        "        yield (word, 1)\n",
        "\n",
        "# Reduce Function : menjumlahkan nilai untuk kata yang sama\n",
        "from collections import defaultdict\n",
        "\n",
        "def reduce_function(pairs):\n",
        "    result = defaultdict(int)\n",
        "    for word, count in pairs:\n",
        "        result[word] += count\n",
        "    return result\n",
        "\n",
        "# Dataset sederhana\n",
        "text_data = \"\"\"\n",
        "Aku suka banget kucing\n",
        "Kucing itu lucu dan menggemaskan\n",
        "Aku suka bermain dengan kucing\n",
        "Suatu saat aku ingin memelihara kucing\n",
        "\"\"\"\n",
        "\n",
        "# Tahap Mapping\n",
        "mapped = list(map_function(text_data))\n",
        "\n",
        "# Tahap Reduce\n",
        "reduced = reduce_function(mapped)\n",
        "\n",
        "# Tampilkan hasil\n",
        "print(\"Hasil Word Count:\\n\")\n",
        "for word, count in reduced.items():\n",
        "    print(f\"{word}: {count}\")\n"
      ],
      "metadata": {
        "colab": {
          "base_uri": "https://localhost:8080/"
        },
        "id": "-IU-1B5wi4vi",
        "outputId": "c4c8e520-f202-49fe-ea33-a780811238fd"
      },
      "execution_count": null,
      "outputs": [
        {
          "output_type": "stream",
          "name": "stdout",
          "text": [
            "Hasil Word Count:\n",
            "\n",
            "Aku: 2\n",
            "suka: 2\n",
            "banget: 1\n",
            "kucing: 3\n",
            "Kucing: 1\n",
            "itu: 1\n",
            "lucu: 1\n",
            "dan: 1\n",
            "menggemaskan: 1\n",
            "bermain: 1\n",
            "dengan: 1\n",
            "Suatu: 1\n",
            "saat: 1\n",
            "aku: 1\n",
            "ingin: 1\n",
            "memelihara: 1\n"
          ]
        }
      ]
    },
    {
      "cell_type": "markdown",
      "metadata": {
        "id": "85612e13"
      },
      "source": [
        "### 5. Tugas Tambahan: Custom MapReduce Algorithm\n",
        "- Buat algoritma MapReduce lainnya, seperti menghitung rata-rata nilai, atau menghitung frekuensi kemunculan elemen tertentu di dalam dataset."
      ]
    },
    {
      "cell_type": "code",
      "source": [
        "# === Dataset ===\n",
        "data = [\n",
        "    \"nasi goreng, ayam bakar, es teh\",\n",
        "    \"nasi goreng, es jeruk\",\n",
        "    \"ayam bakar, es teh\",\n",
        "    \"sate ayam, nasi goreng\",\n",
        "    \"nasi goreng, ayam bakar\",\n",
        "]\n",
        "\n",
        "# --- Tahap Map ---\n",
        "# Pecah setiap baris jadi item dan buat pasangan (item, 1)\n",
        "mapped = [(item.strip(), 1)\n",
        "          for line in data\n",
        "          for item in line.split(\",\")]\n",
        "\n",
        "# --- Tahap Group ---\n",
        "# Gabungkan nilai dengan kunci yang sama\n",
        "grouped = {}\n",
        "for item, count in mapped:\n",
        "    grouped.setdefault(item, []).append(count)\n",
        "\n",
        "# --- Tahap Reduce ---\n",
        "# Hitung jumlah kemunculan tiap item\n",
        "results = {item: sum(counts) for item, counts in grouped.items()}\n",
        "\n",
        "# --- Output ---\n",
        "for item, total in results.items():\n",
        "    print(f\"{item}: {total} kali\")\n"
      ],
      "metadata": {
        "colab": {
          "base_uri": "https://localhost:8080/"
        },
        "id": "96L-ydUfrIuR",
        "outputId": "32db98d9-c7ec-40a0-b036-46e669a9a187"
      },
      "execution_count": 4,
      "outputs": [
        {
          "output_type": "stream",
          "name": "stdout",
          "text": [
            "nasi goreng: 4 kali\n",
            "ayam bakar: 3 kali\n",
            "es teh: 2 kali\n",
            "es jeruk: 1 kali\n",
            "sate ayam: 1 kali\n"
          ]
        }
      ]
    }
  ]
}